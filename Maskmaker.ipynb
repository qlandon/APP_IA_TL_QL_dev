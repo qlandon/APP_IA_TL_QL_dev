{
 "cells": [
  {
   "cell_type": "code",
   "execution_count": 1,
   "metadata": {},
   "outputs": [
    {
     "name": "stdout",
     "output_type": "stream",
     "text": [
      "Requirement already satisfied: numpy in /Library/Frameworks/Python.framework/Versions/3.12/lib/python3.12/site-packages (1.26.4)\n",
      "Collecting pandas\n",
      "  Using cached pandas-2.2.1-cp312-cp312-macosx_11_0_arm64.whl.metadata (19 kB)\n",
      "Requirement already satisfied: python-dateutil>=2.8.2 in /Users/quentinlandon/Library/Python/3.12/lib/python/site-packages (from pandas) (2.9.0.post0)\n",
      "Collecting pytz>=2020.1 (from pandas)\n",
      "  Using cached pytz-2024.1-py2.py3-none-any.whl.metadata (22 kB)\n",
      "Collecting tzdata>=2022.7 (from pandas)\n",
      "  Using cached tzdata-2024.1-py2.py3-none-any.whl.metadata (1.4 kB)\n",
      "Requirement already satisfied: six>=1.5 in /Users/quentinlandon/Library/Python/3.12/lib/python/site-packages (from python-dateutil>=2.8.2->pandas) (1.16.0)\n",
      "Using cached pandas-2.2.1-cp312-cp312-macosx_11_0_arm64.whl (11.3 MB)\n",
      "Using cached pytz-2024.1-py2.py3-none-any.whl (505 kB)\n",
      "Using cached tzdata-2024.1-py2.py3-none-any.whl (345 kB)\n",
      "Installing collected packages: pytz, tzdata, pandas\n",
      "Successfully installed pandas-2.2.1 pytz-2024.1 tzdata-2024.1\n",
      "Note: you may need to restart the kernel to use updated packages.\n"
     ]
    }
   ],
   "source": [
    "pip install numpy pandas"
   ]
  },
  {
   "cell_type": "code",
   "execution_count": 2,
   "metadata": {},
   "outputs": [],
   "source": [
    "#importation des librairies\n",
    "import os\n",
    "import cv2\n",
    "import numpy as np\n",
    "import json\n",
    "import pandas as pd"
   ]
  },
  {
   "cell_type": "code",
   "execution_count": 6,
   "metadata": {},
   "outputs": [
    {
     "ename": "OSError",
     "evalue": "[Errno 30] Read-only file system: 'qlandon'",
     "output_type": "error",
     "traceback": [
      "\u001b[0;31m---------------------------------------------------------------------------\u001b[0m",
      "\u001b[0;31mOSError\u001b[0m                                   Traceback (most recent call last)",
      "Cell \u001b[0;32mIn[6], line 46\u001b[0m\n\u001b[1;32m     44\u001b[0m \u001b[38;5;66;03m# Assurez-vous que le répertoire pour les masques existe, sinon ça le crée\u001b[39;00m\n\u001b[1;32m     45\u001b[0m \u001b[38;5;28;01mif\u001b[39;00m \u001b[38;5;129;01mnot\u001b[39;00m os\u001b[38;5;241m.\u001b[39mpath\u001b[38;5;241m.\u001b[39mexists(mask_dir):\n\u001b[0;32m---> 46\u001b[0m     \u001b[43mos\u001b[49m\u001b[38;5;241;43m.\u001b[39;49m\u001b[43mmakedirs\u001b[49m\u001b[43m(\u001b[49m\u001b[43mmask_dir\u001b[49m\u001b[43m)\u001b[49m\n\u001b[1;32m     48\u001b[0m \u001b[38;5;66;03m# Liste pour stocker les informations sur chaque masque\u001b[39;00m\n\u001b[1;32m     49\u001b[0m data_info \u001b[38;5;241m=\u001b[39m []  \u001b[38;5;66;03m# Initialisation de la liste des informations à inclure dans le DataFrame\u001b[39;00m\n",
      "File \u001b[0;32m<frozen os>:215\u001b[0m, in \u001b[0;36mmakedirs\u001b[0;34m(name, mode, exist_ok)\u001b[0m\n",
      "File \u001b[0;32m<frozen os>:215\u001b[0m, in \u001b[0;36mmakedirs\u001b[0;34m(name, mode, exist_ok)\u001b[0m\n",
      "File \u001b[0;32m<frozen os>:215\u001b[0m, in \u001b[0;36mmakedirs\u001b[0;34m(name, mode, exist_ok)\u001b[0m\n",
      "File \u001b[0;32m<frozen os>:225\u001b[0m, in \u001b[0;36mmakedirs\u001b[0;34m(name, mode, exist_ok)\u001b[0m\n",
      "\u001b[0;31mOSError\u001b[0m: [Errno 30] Read-only file system: 'qlandon'"
     ]
    }
   ],
   "source": [
    "# Définition de la fonction pour convertir un fichier JSON en masque\n",
    "def json_to_mask(json_file):\n",
    "    with open(json_file, 'r') as f:\n",
    "        data = json.load(f)\n",
    "\n",
    "    mask = np.zeros((data['imageHeight'], data['imageWidth']), dtype=np.uint8)\n",
    "\n",
    "    for shape in data['shapes']:\n",
    "        label = shape['label']\n",
    "        points = shape['points']\n",
    "        polygon = np.array(points, dtype=np.int32)\n",
    "\n",
    "        if label == 'numeroex':\n",
    "            cv2.fillPoly(mask, [polygon], 128)\n",
    "        elif label == 'Enonce':\n",
    "            cv2.fillPoly(mask, [polygon], 255)\n",
    "        elif label == 'tab':\n",
    "            cv2.fillPoly(mask, [polygon], 64)\n",
    "        elif label == 'img':\n",
    "            cv2.fillPoly(mask, [polygon], 192)\n",
    "\n",
    "    return mask\n",
    "\n",
    "# Chemins vers les répertoires\n",
    "quentin_JSON = 'qlandon/APP_IA_TL_QL_dev/data/label'\n",
    "quentin_BRUT = 'qlandon/APP_IA_TL_QL_dev/data/Image'\n",
    "quentin_mask = 'qlandon/APP_IA_TL_QL_dev/data/mask'\n",
    "\n",
    "theo_JSON = '/Users/theolambs/APP_IA_TL_QL_dev/data/label'\n",
    "theo_BRUT = '/Users/theolambs/APP_IA_TL_QL_dev/data/Image'\n",
    "theo_mask = '/Users/theolambs/APP_IA_TL_QL_dev/data/mask'\n",
    "\n",
    "utilisateur = int(input(\"si quentin tape 0, si theo tape 1: \"))\n",
    "\n",
    "if utilisateur == 0:\n",
    "    json_dir = quentin_JSON\n",
    "    img_dir = quentin_BRUT\n",
    "    mask_dir = quentin_mask\n",
    "else:\n",
    "    json_dir = theo_JSON\n",
    "    img_dir = theo_BRUT\n",
    "    mask_dir = theo_mask\n",
    "\n",
    "# Assurez-vous que le répertoire pour les masques existe, sinon ça le crée\n",
    "if not os.path.exists(mask_dir):\n",
    "    os.makedirs(mask_dir)\n",
    "\n",
    "# Liste pour stocker les informations sur chaque masque\n",
    "data_info = []  # Initialisation de la liste des informations à inclure dans le DataFrame\n",
    "index_counter = 1  # Initialisation du compteur d'index\n",
    "\n",
    "# Parcours de tous les fichiers JSON dans le répertoire\n",
    "for json_file in os.listdir(json_dir):\n",
    "    if json_file.startswith('LEnonce') and json_file.endswith('.json'):\n",
    "        image_number = json_file[7:-5]  # Supprime \"LEnonce\" du début et \".json\" de la fin\n",
    "        img_filename = f'Enonce{image_number}.png'\n",
    "        img_path = os.path.join(img_dir, img_filename)\n",
    "\n",
    "        if os.path.exists(img_path):\n",
    "            mask = json_to_mask(os.path.join(json_dir, json_file))\n",
    "            mask_filename = 'M' + os.path.splitext(json_file)[0] + '.png'\n",
    "            mask_file_path = os.path.join(mask_dir, mask_filename)\n",
    "            cv2.imwrite(mask_file_path, mask)\n",
    "\n",
    "            if os.path.exists(mask_file_path):\n",
    "                print(f\"Masque enregistré avec succès : {mask_file_path}\")\n",
    "                data_info.append([index_counter, img_path, mask_file_path])#enregistrement dans la liste data_info (num, pathimg, pathmask)\n",
    "                index_counter += 1  # Incrémentation du compteur d'index\n",
    "            else:\n",
    "                print(f\"Erreur lors de l'enregistrement du masque : {mask_file_path}\")\n",
    "        else:\n",
    "            print(f\"Image associée non trouvée pour : {json_file}\")\n",
    "\n",
    "# Création du DataFrame à partir des informations collectées liste data_info + titre colonne\n",
    "df = pd.DataFrame(data_info, columns=['Index', 'pathimg', 'pathmask'])\n",
    "\n",
    "# Enregistrement du DataFrame au format CSV\n",
    "df.to_csv('informations_masques.csv', index=False)\n",
    "\n",
    "# Affichage du DataFrame\n",
    "print(df)\n"
   ]
  }
 ],
 "metadata": {
  "kernelspec": {
   "display_name": "Python 3",
   "language": "python",
   "name": "python3"
  },
  "language_info": {
   "codemirror_mode": {
    "name": "ipython",
    "version": 3
   },
   "file_extension": ".py",
   "mimetype": "text/x-python",
   "name": "python",
   "nbconvert_exporter": "python",
   "pygments_lexer": "ipython3",
   "version": "3.12.2"
  }
 },
 "nbformat": 4,
 "nbformat_minor": 2
}

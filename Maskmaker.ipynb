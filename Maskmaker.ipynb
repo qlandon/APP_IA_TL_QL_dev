{
 "cells": [
  {
   "cell_type": "code",
   "execution_count": 1,
   "metadata": {},
   "outputs": [
    {
     "name": "stdout",
     "output_type": "stream",
     "text": [
      "Collecting opencv-python\n",
      "  Downloading opencv_python-4.9.0.80-cp37-abi3-manylinux_2_17_x86_64.manylinux2014_x86_64.whl.metadata (20 kB)\n",
      "Requirement already satisfied: numpy in /home/codespace/.local/lib/python3.10/site-packages (1.26.4)\n",
      "Requirement already satisfied: pandas in /home/codespace/.local/lib/python3.10/site-packages (2.2.1)\n",
      "Requirement already satisfied: python-dateutil>=2.8.2 in /home/codespace/.local/lib/python3.10/site-packages (from pandas) (2.9.0.post0)\n",
      "Requirement already satisfied: pytz>=2020.1 in /home/codespace/.local/lib/python3.10/site-packages (from pandas) (2024.1)\n",
      "Requirement already satisfied: tzdata>=2022.7 in /home/codespace/.local/lib/python3.10/site-packages (from pandas) (2024.1)\n",
      "Requirement already satisfied: six>=1.5 in /home/codespace/.local/lib/python3.10/site-packages (from python-dateutil>=2.8.2->pandas) (1.16.0)\n",
      "Downloading opencv_python-4.9.0.80-cp37-abi3-manylinux_2_17_x86_64.manylinux2014_x86_64.whl (62.2 MB)\n",
      "\u001b[2K   \u001b[90m━━━━━━━━━━━━━━━━━━━━━━━━━━━━━━━━━━━━━━━━\u001b[0m \u001b[32m62.2/62.2 MB\u001b[0m \u001b[31m13.1 MB/s\u001b[0m eta \u001b[36m0:00:00\u001b[0m00:01\u001b[0m00:01\u001b[0m\n",
      "\u001b[?25hInstalling collected packages: opencv-python\n",
      "Successfully installed opencv-python-4.9.0.80\n",
      "Note: you may need to restart the kernel to use updated packages.\n"
     ]
    }
   ],
   "source": [
    "pip install opencv-python numpy pandas"
   ]
  },
  {
   "cell_type": "code",
   "execution_count": 2,
   "metadata": {},
   "outputs": [
    {
     "ename": "ImportError",
     "evalue": "libGL.so.1: cannot open shared object file: No such file or directory",
     "output_type": "error",
     "traceback": [
      "\u001b[0;31m---------------------------------------------------------------------------\u001b[0m",
      "\u001b[0;31mImportError\u001b[0m                               Traceback (most recent call last)",
      "Cell \u001b[0;32mIn[2], line 3\u001b[0m\n\u001b[1;32m      1\u001b[0m \u001b[38;5;66;03m#importation des librairies\u001b[39;00m\n\u001b[1;32m      2\u001b[0m \u001b[38;5;28;01mimport\u001b[39;00m \u001b[38;5;21;01mos\u001b[39;00m\n\u001b[0;32m----> 3\u001b[0m \u001b[38;5;28;01mimport\u001b[39;00m \u001b[38;5;21;01mcv2\u001b[39;00m\n\u001b[1;32m      4\u001b[0m \u001b[38;5;28;01mimport\u001b[39;00m \u001b[38;5;21;01mnumpy\u001b[39;00m \u001b[38;5;28;01mas\u001b[39;00m \u001b[38;5;21;01mnp\u001b[39;00m\n\u001b[1;32m      5\u001b[0m \u001b[38;5;28;01mimport\u001b[39;00m \u001b[38;5;21;01mjson\u001b[39;00m\n",
      "\u001b[0;31mImportError\u001b[0m: libGL.so.1: cannot open shared object file: No such file or directory"
     ]
    }
   ],
   "source": [
    "#importation des librairies\n",
    "import os\n",
    "import cv2\n",
    "import numpy as np\n",
    "import json\n",
    "import pandas as pd"
   ]
  },
  {
   "cell_type": "code",
   "execution_count": null,
   "metadata": {},
   "outputs": [],
   "source": [
    "# Définition de la fonction pour convertir un fichier JSON en masque\n",
    "def json_to_mask(json_file):\n",
    "    with open(json_file, 'r') as f:\n",
    "        data = json.load(f)\n",
    "\n",
    "    mask = np.zeros((data['imageHeight'], data['imageWidth']), dtype=np.uint8)\n",
    "\n",
    "    for shape in data['shapes']:\n",
    "        label = shape['label']\n",
    "        points = shape['points']\n",
    "        polygon = np.array(points, dtype=np.int32)\n",
    "\n",
    "        if label == 'numeroex':\n",
    "            cv2.fillPoly(mask, [polygon], 128)\n",
    "        elif label == 'Enonce':\n",
    "            cv2.fillPoly(mask, [polygon], 255)\n",
    "        elif label == 'tab':\n",
    "            cv2.fillPoly(mask, [polygon], 64)\n",
    "        elif label == 'img':\n",
    "            cv2.fillPoly(mask, [polygon], 192)\n",
    "\n",
    "    return mask\n",
    "\n",
    "# Chemins vers les répertoires\n",
    "quentin_JSON = '/workspaces/APP_IA_TL_QL_dev/data/label'\n",
    "quentin_BRUT = '/workspaces/APP_IA_TL_QL_dev/data/Image'\n",
    "quentin_mask = '/workspaces/APP_IA_TL_QL_dev/data/mask'\n",
    "\n",
    "theo_JSON = '/Users/theolambs/APP_IA_TL_QL_dev/data/label'\n",
    "theo_BRUT = '/Users/theolambs/APP_IA_TL_QL_dev/data/Image'\n",
    "theo_mask = '/Users/theolambs/APP_IA_TL_QL_dev/data/mask'\n",
    "\n",
    "utilisateur = int(input(\"si quentin tape 0, si theo tape 1: \"))\n",
    "\n",
    "if utilisateur == 0:\n",
    "    json_dir = quentin_JSON\n",
    "    img_dir = quentin_BRUT\n",
    "    mask_dir = quentin_mask\n",
    "else:\n",
    "    json_dir = theo_JSON\n",
    "    img_dir = theo_BRUT\n",
    "    mask_dir = theo_mask\n",
    "\n",
    "# Assurez-vous que le répertoire pour les masques existe, sinon ça le crée\n",
    "if not os.path.exists(mask_dir):\n",
    "    os.makedirs(mask_dir)\n",
    "\n",
    "# Liste pour stocker les informations sur chaque masque\n",
    "data_info = []  # Initialisation de la liste des informations à inclure dans le DataFrame\n",
    "index_counter = 1  # Initialisation du compteur d'index\n",
    "\n",
    "# Parcours de tous les fichiers JSON dans le répertoire\n",
    "for json_file in os.listdir(json_dir):\n",
    "    if json_file.startswith('LEnonce') and json_file.endswith('.json'):\n",
    "        image_number = json_file[7:-5]  # Supprime \"LEnonce\" du début et \".json\" de la fin\n",
    "        img_filename = f'Enonce{image_number}.png'\n",
    "        img_path = os.path.join(img_dir, img_filename)\n",
    "\n",
    "        if os.path.exists(img_path):\n",
    "            mask = json_to_mask(os.path.join(json_dir, json_file))\n",
    "            mask_filename = 'M' + os.path.splitext(json_file)[0] + '.png'\n",
    "            mask_file_path = os.path.join(mask_dir, mask_filename)\n",
    "            cv2.imwrite(mask_file_path, mask)\n",
    "\n",
    "            if os.path.exists(mask_file_path):\n",
    "                print(f\"Masque enregistré avec succès : {mask_file_path}\")\n",
    "                data_info.append([index_counter, img_path, mask_file_path])#enregistrement dans la liste data_info (num, pathimg, pathmask)\n",
    "                index_counter += 1  # Incrémentation du compteur d'index\n",
    "            else:\n",
    "                print(f\"Erreur lors de l'enregistrement du masque : {mask_file_path}\")\n",
    "        else:\n",
    "            print(f\"Image associée non trouvée pour : {json_file}\")\n",
    "\n",
    "# Création du DataFrame à partir des informations collectées liste data_info + titre colonne\n",
    "df = pd.DataFrame(data_info, columns=['Index', 'pathimg', 'pathmask'])\n",
    "\n",
    "# Enregistrement du DataFrame au format CSV\n",
    "df.to_csv('informations_masques.csv', index=False)\n",
    "\n",
    "# Affichage du DataFrame\n",
    "print(df)\n"
   ]
  }
 ],
 "metadata": {
  "kernelspec": {
   "display_name": "Python 3",
   "language": "python",
   "name": "python3"
  },
  "language_info": {
   "codemirror_mode": {
    "name": "ipython",
    "version": 3
   },
   "file_extension": ".py",
   "mimetype": "text/x-python",
   "name": "python",
   "nbconvert_exporter": "python",
   "pygments_lexer": "ipython3",
   "version": "3.10.13"
  }
 },
 "nbformat": 4,
 "nbformat_minor": 2
}

{
 "cells": [
  {
   "cell_type": "markdown",
   "metadata": {},
   "source": [
    "Commande pip pour installer toute les librairies"
   ]
  },
  {
   "cell_type": "code",
   "execution_count": null,
   "metadata": {},
   "outputs": [],
   "source": [
    "pip install pandas numpy opencv-python-headless tensorflow keras scikit-learn tkinter"
   ]
  },
  {
   "cell_type": "markdown",
   "metadata": {},
   "source": [
    "Importation des librairies "
   ]
  },
  {
   "cell_type": "code",
   "execution_count": 6,
   "metadata": {},
   "outputs": [],
   "source": [
    "import os\n",
    "import json\n",
    "import cv2\n",
    "import pandas as pd\n",
    "import numpy as np\n",
    "from tkinter import Tk, filedialog\n",
    "from keras.models import Model\n",
    "from keras.layers import Input, Conv2D, MaxPooling2D, Conv2DTranspose, concatenate\n",
    "from keras.preprocessing.image import load_img, img_to_array\n",
    "from keras.losses import categorical_crossentropy\n",
    "from keras.optimizers import Adam\n",
    "from sklearn.model_selection import train_test_split\n",
    "from keras.utils import to_categorical\n"
   ]
  },
  {
   "cell_type": "markdown",
   "metadata": {},
   "source": [
    "Définition du modèle, choix des données test/validation, fonction UNet..."
   ]
  },
  {
   "cell_type": "code",
   "execution_count": 7,
   "metadata": {},
   "outputs": [],
   "source": [
    "# Chargement du fichier CSV\n",
    "df = pd.read_csv('/Users/quentinlandon/Desktop/GIT_Projet_theo/APP_IA_TL_QL_dev/informations_masques.csv')\n",
    "\n",
    "# Extraction des chemins des images brutes et des masques\n",
    "images_paths = df['pathimg'].values\n",
    "masks_paths = df['pathmask'].values\n",
    "\n",
    "# Fonction pour charger les images et les masques\n",
    "def load_images_and_masks(images_paths, masks_paths):\n",
    "    images = []\n",
    "    masks = []\n",
    "    for img_path, mask_path in zip(images_paths, masks_paths):\n",
    "        img = load_img(img_path, target_size=(256, 256))\n",
    "        mask = load_img(mask_path, target_size=(256, 256), color_mode='grayscale')\n",
    "        images.append(img_to_array(img))\n",
    "        masks.append(img_to_array(mask))\n",
    "    return np.array(images), np.array(masks)\n",
    "\n",
    "# Chargement des images et des masques\n",
    "images, masks = load_images_and_masks(images_paths, masks_paths)\n",
    "\n",
    "# Division des données en ensembles d'entraînement et de test (80% pour l'entraînement, 20% pour le test)\n",
    "x_train, x_test, y_train, y_test = train_test_split(images, masks, test_size=0.2, random_state=42)\n",
    "\n",
    "# Définir input_shape\n",
    "input_shape = (256, 256, 3)  # Taille de l'image : 256x256 pixels, 3 canaux (RGB)\n",
    "\n",
    "# Modifier la couche de sortie pour gérer les classes multiples\n",
    "def unet_multiclass(input_shape, num_classes):\n",
    "    inputs = Input(input_shape)\n",
    "    \n",
    "    # Chemin contractant\n",
    "    conv1 = Conv2D(64, 3, activation='relu', padding='same')(inputs)\n",
    "    conv1 = Conv2D(64, 3, activation='relu', padding='same')(conv1)\n",
    "    pool1 = MaxPooling2D(pool_size=(2, 2))(conv1)\n",
    "\n",
    "    conv2 = Conv2D(128, 3, activation='relu', padding='same')(pool1)\n",
    "    conv2 = Conv2D(128, 3, activation='relu', padding='same')(conv2)\n",
    "    pool2 = MaxPooling2D(pool_size=(2, 2))(conv2)\n",
    "\n",
    "    # Fond\n",
    "    conv3 = Conv2D(256, 3, activation='relu', padding='same')(pool2)\n",
    "    conv3 = Conv2D(256, 3, activation='relu', padding='same')(conv3)\n",
    "\n",
    "    # Chemin expansif\n",
    "    up4 = Conv2DTranspose(128, (2, 2), strides=(2, 2), padding='same')(conv3)\n",
    "    up4 = concatenate([up4, conv2], axis=3)\n",
    "    conv4 = Conv2D(128, 3, activation='relu', padding='same')(up4)\n",
    "    conv4 = Conv2D(128, 3, activation='relu', padding='same')(conv4)\n",
    "\n",
    "    up5 = Conv2DTranspose(64, (2, 2), strides=(2, 2), padding='same')(conv4)\n",
    "    up5 = concatenate([up5, conv1], axis=3)\n",
    "    conv5 = Conv2D(64, 3, activation='relu', padding='same')(up5)\n",
    "    conv5 = Conv2D(64, 3, activation='relu', padding='same')(conv5)\n",
    "\n",
    "    # Couche de sortie pour les classes multiples avec softmax\n",
    "    outputs = Conv2D(num_classes, 1, activation='softmax')(conv5)\n",
    "\n",
    "    model = Model(inputs=[inputs], outputs=[outputs])\n",
    "    return model\n",
    "\n",
    "# Déterminer le nombre de classes à partir des masques d'entraînement\n",
    "num_classes = np.max([len(np.unique(mask)) for mask in y_train])\n",
    "\n",
    "# Création du modèle U-Net pour plusieurs classes\n",
    "model = unet_multiclass(input_shape, num_classes)\n",
    "\n",
    "# Compilation du modèle avec la perte et l'optimiseur appropriés\n",
    "model.compile(optimizer=Adam(), loss='categorical_crossentropy', metrics=['accuracy'])\n",
    "\n",
    "# Limiter les valeurs de pixel dans les masques à un nombre de classes maximum\n",
    "def limit_mask_classes(mask, num_classes):\n",
    "    return np.where(mask < num_classes, mask, num_classes - 1)\n",
    "\n",
    "# Appliquer la fonction de seuillage aux masques d'entraînement et de test\n",
    "y_train_limited = np.array([limit_mask_classes(mask, num_classes) for mask in y_train])\n",
    "y_test_limited = np.array([limit_mask_classes(mask, num_classes) for mask in y_test])\n",
    "\n",
    "# Encodage one-hot des masques\n",
    "y_train_encoded = to_categorical(y_train_limited, num_classes=max(num_classes, num_classes))\n",
    "y_test_encoded = to_categorical(y_test_limited, num_classes=max(num_classes, num_classes))\n"
   ]
  },
  {
   "cell_type": "markdown",
   "metadata": {},
   "source": [
    "Entrainement du modèle UNET"
   ]
  },
  {
   "cell_type": "code",
   "execution_count": null,
   "metadata": {},
   "outputs": [],
   "source": [
    "\n",
    "# Entraînement du modèle\n",
    "model.fit(x_train, y_train_encoded, batch_size=32, epochs=10, validation_data=(x_test, y_test_encoded))\n"
   ]
  },
  {
   "cell_type": "markdown",
   "metadata": {},
   "source": [
    "Enregistrement du modèle dans le path choisi"
   ]
  },
  {
   "cell_type": "code",
   "execution_count": null,
   "metadata": {},
   "outputs": [],
   "source": [
    "import os\n",
    "from tkinter import Tk, filedialog\n",
    "\n",
    "# Créer une fenêtre Tkinter\n",
    "root = Tk()\n",
    "root.withdraw()  # Pour cacher la fenêtre principale\n",
    "\n",
    "# Demander à l'utilisateur de choisir le chemin d'enregistrement\n",
    "save_path = filedialog.asksaveasfilename(defaultextension=\".h5\", filetypes=[(\"Model files\", \"*.h5\")])\n",
    "\n",
    "# Demander à l'utilisateur le nom du modèle\n",
    "model_name = input(\"Veuillez saisir le nom du modèle : \")\n",
    "\n",
    "# Vérifier si le nom du modèle a été saisi\n",
    "if not model_name:\n",
    "    print(\"Le nom du modèle est vide. Veuillez saisir un nom valide.\")\n",
    "    exit()\n",
    "\n",
    "# Vérifier si le chemin d'enregistrement a été choisi\n",
    "if not save_path:\n",
    "    print(\"Aucun chemin d'enregistrement sélectionné. L'enregistrement du modèle est annulé.\")\n",
    "    exit()\n",
    "\n",
    "# Enregistrer le modèle\n",
    "model.save(os.path.join(save_path, model_name + \".h5\"))\n"
   ]
  },
  {
   "cell_type": "markdown",
   "metadata": {},
   "source": [
    "Visualiser le modèle, Choisir le path du modèle voulu : "
   ]
  },
  {
   "cell_type": "code",
   "execution_count": 8,
   "metadata": {},
   "outputs": [
    {
     "name": "stderr",
     "output_type": "stream",
     "text": [
      "WARNING:absl:Compiled the loaded model, but the compiled metrics have yet to be built. `model.compile_metrics` will be empty until you train or evaluate the model.\n"
     ]
    },
    {
     "name": "stdout",
     "output_type": "stream",
     "text": [
      "\u001b[1m1/1\u001b[0m \u001b[32m━━━━━━━━━━━━━━━━━━━━\u001b[0m\u001b[37m\u001b[0m \u001b[1m0s\u001b[0m 239ms/step\n"
     ]
    },
    {
     "name": "stderr",
     "output_type": "stream",
     "text": [
      "WARNING:matplotlib.image:Clipping input data to the valid range for imshow with RGB data ([0..1] for floats or [0..255] for integers).\n"
     ]
    },
    {
     "name": "stdout",
     "output_type": "stream",
     "text": [
      "Precision: 0.8046258851686368\n",
      "Recall: 0.6821136474609375\n",
      "F1 Score: 0.6520437914480468\n"
     ]
    },
    {
     "data": {
      "image/png": "[encoded data removed]",
      "text/plain": [
       "<Figure size 640x480 with 3 Axes>"
      ]
     },
     "metadata": {},
     "output_type": "display_data"
    }
   ],
   "source": [
    "import numpy as np\n",
    "import matplotlib.pyplot as plt\n",
    "from sklearn.metrics import precision_score, recall_score, f1_score\n",
    "from keras.preprocessing.image import load_img, img_to_array\n",
    "from keras.models import load_model\n",
    "\n",
    "\n",
    "def visualize_result(model_path, option, image_path=None, image=None, true_mask=None):\n",
    "    # Charger le modèle\n",
    "    model = load_model(model_path)\n",
    "\n",
    "    if option == 0:\n",
    "        # Visualisation des résultats sur des données déjà labellisées\n",
    "        # Prédiction du masque avec le modèle\n",
    "        predicted_mask = model.predict(np.expand_dims(image, axis=0))[0]\n",
    "        \n",
    "        # Convertir les masques prédits et vrais en classes (0, 1, 2, ...)\n",
    "        predicted_class = np.argmax(predicted_mask, axis=-1)\n",
    "        true_class = np.argmax(true_mask, axis=-1)\n",
    "        \n",
    "        # Calculer les scores de précision, rappel et F-mesure\n",
    "        precision = precision_score(true_class.flatten(), predicted_class.flatten(), average='weighted')\n",
    "        recall = recall_score(true_class.flatten(), predicted_class.flatten(), average='weighted')\n",
    "        f1 = f1_score(true_class.flatten(), predicted_class.flatten(), average='weighted')\n",
    "        \n",
    "        # Afficher les scores\n",
    "        print(\"Precision:\", precision)\n",
    "        print(\"Recall:\", recall)\n",
    "        print(\"F1 Score:\", f1)\n",
    "        \n",
    "        # Afficher l'image\n",
    "        plt.subplot(1, 3, 1)\n",
    "        plt.imshow(image)\n",
    "        plt.title(\"Image\")\n",
    "        plt.axis('off')\n",
    "        \n",
    "        # Afficher le masque prédit\n",
    "        plt.subplot(1, 3, 2)\n",
    "        plt.imshow(predicted_class, cmap='viridis', vmin=0, vmax=np.max(predicted_class))\n",
    "        plt.title(\"Predicted Mask\")\n",
    "        plt.axis('off')\n",
    "        \n",
    "        # Afficher le masque vrai\n",
    "        plt.subplot(1, 3, 3)\n",
    "        plt.imshow(true_class, cmap='viridis', vmin=0, vmax=np.max(true_class))\n",
    "        plt.title(\"True Mask\")\n",
    "        plt.axis('off')\n",
    "        \n",
    "        plt.show()\n",
    "        \n",
    "    elif option == 1:\n",
    "        # Visualisation des résultats sur une image brute non labellisée\n",
    "        # Charger l'image\n",
    "        image = load_img(image_path, target_size=(256, 256))\n",
    "        image_array = img_to_array(image)\n",
    "        \n",
    "        # Prédiction du masque avec le modèle\n",
    "        predicted_mask = model.predict(np.expand_dims(image_array, axis=0))[0]\n",
    "        \n",
    "        # Convertir le masque prédit en classes (0, 1, 2, ...)\n",
    "        predicted_class = np.argmax(predicted_mask, axis=-1)\n",
    "        \n",
    "        # Afficher l'image et le masque prédit\n",
    "        plt.subplot(1, 2, 1)\n",
    "        plt.imshow(image)\n",
    "        plt.title(\"Image\")\n",
    "        plt.axis('off')\n",
    "        \n",
    "        plt.subplot(1, 2, 2)\n",
    "        plt.imshow(predicted_class, cmap='viridis', vmin=0, vmax=np.max(predicted_class))\n",
    "        plt.title(\"Predicted Mask\")\n",
    "        plt.axis('off')\n",
    "        \n",
    "        plt.show()\n",
    "\n",
    "# Chemin du modèle\n",
    "model_path = input(\"Entrez le chemin du modèle : \")\n",
    "\n",
    "# Utilisation de la fonction pour visualiser les résultats\n",
    "option = int(input(\"Choisissez l'option (0: Données labellisées, 1: Image brute non labellisée): \"))\n",
    "\n",
    "if option == 0:\n",
    "    index = int(input(\"Entrez l'indice de l'image à visualiser : \"))\n",
    "    visualize_result(model_path, option, image=x_test[index], true_mask=y_test_encoded[index])\n",
    "elif option == 1:\n",
    "    image_path = input(\"Entrez le chemin de l'image à visualiser : \")\n",
    "    visualize_result(model_path, option, image_path=image_path)\n",
    "else:\n",
    "    print(\"Option invalide.\")\n"
   ]
  }
 ],
 "metadata": {
  "kernelspec": {
   "display_name": "Python 3",
   "language": "python",
   "name": "python3"
  },
  "language_info": {
   "codemirror_mode": {
    "name": "ipython",
    "version": 3
   },
   "file_extension": ".py",
   "mimetype": "text/x-python",
   "name": "python",
   "nbconvert_exporter": "python",
   "pygments_lexer": "ipython3",
   "version": "3.12.2"
  }
 },
 "nbformat": 4,
 "nbformat_minor": 2
}

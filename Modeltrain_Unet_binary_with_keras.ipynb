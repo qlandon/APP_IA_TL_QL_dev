{
 "cells": [
  {
   "cell_type": "code",
   "execution_count": null,
   "metadata": {},
   "outputs": [],
   "source": [
    "pip install numpy tensorflow pandas scikit-learn matplotlib"
   ]
  },
  {
   "cell_type": "code",
   "execution_count": 1,
   "metadata": {},
   "outputs": [],
   "source": [
    "import os\n",
    "import json\n",
    "import cv2\n",
    "import pandas as pd\n",
    "import numpy as np\n",
    "from keras.models import Model\n",
    "from keras.layers import Input, Conv2D, MaxPooling2D, Conv2DTranspose, concatenate\n",
    "from keras.preprocessing.image import load_img, img_to_array\n",
    "from keras.losses import categorical_crossentropy\n",
    "from keras.optimizers import Adam\n",
    "from sklearn.model_selection import train_test_split"
   ]
  },
  {
   "cell_type": "code",
   "execution_count": 2,
   "metadata": {},
   "outputs": [
    {
     "name": "stdout",
     "output_type": "stream",
     "text": [
      "Epoch 1/10\n"
     ]
    }
   ],
   "source": [
    "# Chargement du fichier CSV\n",
    "df = pd.read_csv('/Users/quentinlandon/Desktop/GIT_Projet_theo/APP_IA_TL_QL_dev/informations_masques.csv')\n",
    "\n",
    "# Extraction des chemins des images brutes et des masques\n",
    "images_paths = df['pathimg'].values\n",
    "masks_paths = df['pathmask'].values\n",
    "\n",
    "# Fonction pour charger les images et les masques\n",
    "def load_images_and_masks(images_paths, masks_paths):\n",
    "    images = []\n",
    "    masks = []\n",
    "    for img_path, mask_path in zip(images_paths, masks_paths):\n",
    "        img = load_img(img_path, target_size=(256, 256))\n",
    "        mask = load_img(mask_path, target_size=(256, 256), color_mode='grayscale')\n",
    "        images.append(img_to_array(img))\n",
    "        masks.append(img_to_array(mask))\n",
    "    return np.array(images), np.array(masks)\n",
    "\n",
    "# Chargement des images et des masques\n",
    "images, masks = load_images_and_masks(images_paths, masks_paths)\n",
    "\n",
    "# Division des données en ensembles d'entraînement et de test (80% pour l'entraînement, 20% pour le test)\n",
    "x_train, x_test, y_train, y_test = train_test_split(images, masks, test_size=0.2, random_state=42)\n",
    "\n",
    "# Construction du modèle U-Net\n",
    "def unet(input_shape):\n",
    "    inputs = Input(input_shape)\n",
    "    \n",
    "    # Chemin contractant\n",
    "    conv1 = Conv2D(64, 3, activation='relu', padding='same')(inputs)\n",
    "    conv1 = Conv2D(64, 3, activation='relu', padding='same')(conv1)\n",
    "    pool1 = MaxPooling2D(pool_size=(2, 2))(conv1)\n",
    "\n",
    "    conv2 = Conv2D(128, 3, activation='relu', padding='same')(pool1)\n",
    "    conv2 = Conv2D(128, 3, activation='relu', padding='same')(conv2)\n",
    "    pool2 = MaxPooling2D(pool_size=(2, 2))(conv2)\n",
    "\n",
    "    # Fond\n",
    "    conv3 = Conv2D(256, 3, activation='relu', padding='same')(pool2)\n",
    "    conv3 = Conv2D(256, 3, activation='relu', padding='same')(conv3)\n",
    "\n",
    "    # Chemin expansif\n",
    "    up4 = Conv2DTranspose(128, (2, 2), strides=(2, 2), padding='same')(conv3)\n",
    "    up4 = concatenate([up4, conv2], axis=3)\n",
    "    conv4 = Conv2D(128, 3, activation='relu', padding='same')(up4)\n",
    "    conv4 = Conv2D(128, 3, activation='relu', padding='same')(conv4)\n",
    "\n",
    "    up5 = Conv2DTranspose(64, (2, 2), strides=(2, 2), padding='same')(conv4)\n",
    "    up5 = concatenate([up5, conv1], axis=3)\n",
    "    conv5 = Conv2D(64, 3, activation='relu', padding='same')(up5)\n",
    "    conv5 = Conv2D(64, 3, activation='relu', padding='same')(conv5)\n",
    "\n",
    "    # Couche de sortie\n",
    "    outputs = Conv2D(1, 1, activation='sigmoid')(conv5)\n",
    "\n",
    "    model = Model(inputs=[inputs], outputs=[outputs])\n",
    "    return model\n",
    "\n",
    "# Création du modèle U-Net\n",
    "input_shape = (256, 256, 3)  # Taille d'entrée\n",
    "model = unet(input_shape)\n",
    "\n",
    "# Compilation du modèle\n",
    "model.compile(optimizer='adam', loss='binary_crossentropy', metrics=['accuracy'])\n",
    "\n",
    "# Entraînement du modèle\n",
    "model.fit(x_train, y_train, batch_size=32, epochs=10, validation_data=(x_test, y_test))\n"
   ]
  },
  {
   "cell_type": "code",
   "execution_count": 1,
   "metadata": {},
   "outputs": [
    {
     "ename": "NameError",
     "evalue": "name 'model' is not defined",
     "output_type": "error",
     "traceback": [
      "\u001b[0;31m---------------------------------------------------------------------------\u001b[0m",
      "\u001b[0;31mNameError\u001b[0m                                 Traceback (most recent call last)",
      "Cell \u001b[0;32mIn[1], line 12\u001b[0m\n\u001b[1;32m      9\u001b[0m new_img_array \u001b[38;5;241m=\u001b[39m np\u001b[38;5;241m.\u001b[39mexpand_dims(new_img_array, axis\u001b[38;5;241m=\u001b[39m\u001b[38;5;241m0\u001b[39m)\n\u001b[1;32m     11\u001b[0m \u001b[38;5;66;03m# Prédiction sur la nouvelle image\u001b[39;00m\n\u001b[0;32m---> 12\u001b[0m prediction \u001b[38;5;241m=\u001b[39m \u001b[43mmodel\u001b[49m\u001b[38;5;241m.\u001b[39mpredict(new_img_array)[\u001b[38;5;241m0\u001b[39m]  \u001b[38;5;66;03m# Première prédiction (on suppose une seule image en entrée)\u001b[39;00m\n\u001b[1;32m     14\u001b[0m \u001b[38;5;66;03m# Afficher l'image originale\u001b[39;00m\n\u001b[1;32m     15\u001b[0m plt\u001b[38;5;241m.\u001b[39msubplot(\u001b[38;5;241m1\u001b[39m, \u001b[38;5;241m3\u001b[39m, \u001b[38;5;241m1\u001b[39m)\n",
      "\u001b[0;31mNameError\u001b[0m: name 'model' is not defined"
     ]
    }
   ],
   "source": [
    "from tensorflow.keras.preprocessing.image import load_img, img_to_array\n",
    "import numpy as np\n",
    "import matplotlib.pyplot as plt\n",
    "\n",
    "# Charger une nouvelle image et son masque correspondant\n",
    "new_image_path = \"/Users/quentinlandon/Desktop/GIT_Projet_theo/APP_IA_TL_QL_dev/data/Img_test/Test1.png\"\n",
    "new_img = load_img(new_image_path, target_size=(256, 256))\n",
    "new_img_array = img_to_array(new_img) / 255.0  # Normalisation entre 0 et 1\n",
    "new_img_array = np.expand_dims(new_img_array, axis=0)\n",
    "\n",
    "# Prédiction sur la nouvelle image\n",
    "prediction = model.predict(new_img_array)[0]  # Première prédiction (on suppose une seule image en entrée)\n",
    "\n",
    "# Afficher l'image originale\n",
    "plt.subplot(1, 3, 1)\n",
    "plt.imshow(new_img)\n",
    "plt.title('Image originale')\n",
    "plt.axis('off')\n",
    "\n",
    "# Afficher la prédiction de segmentation\n",
    "plt.subplot(1, 3, 3)\n",
    "plt.imshow(prediction.squeeze(), cmap='gray')  # Utilisez 'gray' colormap pour les images en niveaux de gris\n",
    "plt.title('Prédiction de segmentation')\n",
    "plt.axis('off')\n",
    "\n",
    "plt.show()"
   ]
  }
 ],
 "metadata": {
  "kernelspec": {
   "display_name": "Python 3",
   "language": "python",
   "name": "python3"
  },
  "language_info": {
   "codemirror_mode": {
    "name": "ipython",
    "version": 3
   },
   "file_extension": ".py",
   "mimetype": "text/x-python",
   "name": "python",
   "nbconvert_exporter": "python",
   "pygments_lexer": "ipython3",
   "version": "3.12.2"
  }
 },
 "nbformat": 4,
 "nbformat_minor": 2
}

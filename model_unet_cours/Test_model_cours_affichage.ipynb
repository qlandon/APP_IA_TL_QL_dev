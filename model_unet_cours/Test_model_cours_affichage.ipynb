{
 "cells": [
  {
   "cell_type": "code",
   "execution_count": null,
   "metadata": {},
   "outputs": [],
   "source": [
    "import tensorflow as tf\n",
    "import os \n",
    "import numpy as np\n",
    "import cv2\n",
    "\n",
    "width=160\n",
    "height=120\n",
    "\n",
    "dir='dataE/'\n",
    "\n",
    "with tf.Session() as s:\n",
    "    saver=tf.train.import_meta_graph('./mon_modele/modele.meta')\n",
    "    saver.restore(s, tf.train.latest_checkpoint('./mon_modele/'))\n",
    "    graph=tf.get_default_graph()\n",
    "    images=graph.get_tensor_by_name(\"entree:0\")\n",
    "    sortie=graph.get_tensor_by_name(\"sortie:0\")\n",
    "\n",
    "    for file in os.listdir(dir+'CameraRGB/'):\n",
    "        img=cv2.resize(cv2.imread(dir+'CameraRGB/'+file), (width, height))/255                \n",
    "        cv2.imshow(\"image\", img)\n",
    "        m=cv2.resize(cv2.imread(dir+'CameraSeg/'+file)[:,:,2], (width, height))\n",
    "        m[m==7]=255\n",
    "        m[m!=255]=0\n",
    "        cv2.imshow(\"mask 7\", m)\n",
    "        m=cv2.resize(cv2.imread(dir+'CameraSeg/'+file)[:,:,2], (width, height))\n",
    "        m[m==9]=255\n",
    "        m[m!=255]=0\n",
    "        cv2.imshow(\"mask 9\", m)\n",
    "        prediction=s.run(sortie, feed_dict={images:[img]})\n",
    "        cv2.imshow(\"mask prediction 7\", prediction[0][:,:,0])\n",
    "        cv2.imshow(\"mask prediction 9\", prediction[0][:,:,1])\n",
    "        if cv2.waitKey()&0xFF==ord('q'):\n",
    "            break\n",
    "            \n",
    "            "
   ]
  }
 ],
 "metadata": {
  "language_info": {
   "name": "python"
  }
 },
 "nbformat": 4,
 "nbformat_minor": 2
}
